{
 "cells": [
  {
   "cell_type": "markdown",
   "id": "dc4ac5dc-79cf-4502-be3b-0d3b907e7b41",
   "metadata": {},
   "source": [
    "# Data Science Tools and Ecosystem"
   ]
  },
  {
   "cell_type": "markdown",
   "id": "5064496f-5b64-4898-a0b1-199d7391dd06",
   "metadata": {},
   "source": [
    "In this notebook, Data Science Tools and Ecosystem are summarized. "
   ]
  },
  {
   "cell_type": "markdown",
   "id": "e5e7669c-8511-46b1-bcf7-e8f3e875d12b",
   "metadata": {},
   "source": [
    "**Objectives:**\n",
    "* List popular languages for Data Science\n",
    "* List common libraries for Data Science\n",
    "* Arithmetic Examples"
   ]
  },
  {
   "cell_type": "markdown",
   "id": "003bb9db-d793-47bf-b331-1fd23338f529",
   "metadata": {},
   "source": [
    "Some of the popular languages that Data Scientists use are:"
   ]
  },
  {
   "cell_type": "markdown",
   "id": "2db3d98e-fc58-48e6-81f6-85f78b186d23",
   "metadata": {},
   "source": [
    "1. Python \n",
    "2. R\n",
    "3. SQL"
   ]
  },
  {
   "cell_type": "markdown",
   "id": "ab671173-0d94-494d-b9a9-0ce43f8f4f3e",
   "metadata": {},
   "source": [
    "Some of the commonly used libraries used by Data Scientists include:"
   ]
  },
  {
   "cell_type": "markdown",
   "id": "531baf06-07aa-4ab4-b010-c4ee9c06c1dd",
   "metadata": {},
   "source": [
    "1. NumPy\n",
    "2. Matplotlib\n",
    "3. SciPy"
   ]
  },
  {
   "cell_type": "markdown",
   "id": "cda3c4d7-dc28-450b-852b-1fe9d3244c50",
   "metadata": {},
   "source": [
    "|   Data Science Tools |\n",
    "| :------------------: |\n",
    "|     Apache Spark     |\n",
    "|      TensorFlow      |\n",
    "|       RStudio        |\n"
   ]
  },
  {
   "cell_type": "markdown",
   "id": "c2546d69-d68d-4569-b768-84a72c1ace2d",
   "metadata": {},
   "source": [
    "### Below are a few examples of evaluating arithmetic expressions in Python"
   ]
  },
  {
   "cell_type": "code",
   "execution_count": 85,
   "id": "9b77887b-1894-472f-a5bd-b13d5ce8a22a",
   "metadata": {},
   "outputs": [
    {
     "data": {
      "text/plain": [
       "17"
      ]
     },
     "execution_count": 85,
     "metadata": {},
     "output_type": "execute_result"
    }
   ],
   "source": [
    "# This a simple arithmetic expression to multiply then add integers\n",
    "(3*4)+5"
   ]
  },
  {
   "cell_type": "code",
   "execution_count": 86,
   "id": "807ee64f-df2b-48bd-ad39-10cae1681da0",
   "metadata": {},
   "outputs": [
    {
     "data": {
      "text/plain": [
       "3.3333333333333335"
      ]
     },
     "execution_count": 86,
     "metadata": {},
     "output_type": "execute_result"
    }
   ],
   "source": [
    "# This will convert 200 minutes to hours by diving by 60\n",
    "200/60"
   ]
  },
  {
   "cell_type": "markdown",
   "id": "11ce727c-23ec-40dc-b465-0cbe4c1a374c",
   "metadata": {},
   "source": [
    "## Author\n",
    "Uday Gudipudi"
   ]
  }
 ],
 "metadata": {
  "kernelspec": {
   "display_name": "Python 3 (ipykernel)",
   "language": "python",
   "name": "python3"
  },
  "language_info": {
   "codemirror_mode": {
    "name": "ipython",
    "version": 3
   },
   "file_extension": ".py",
   "mimetype": "text/x-python",
   "name": "python",
   "nbconvert_exporter": "python",
   "pygments_lexer": "ipython3",
   "version": "3.12.4"
  }
 },
 "nbformat": 4,
 "nbformat_minor": 5
}
